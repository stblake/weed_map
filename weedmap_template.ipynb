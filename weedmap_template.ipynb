{
 "cells": [
  {
   "cell_type": "markdown",
   "id": "555fa4db",
   "metadata": {},
   "source": [
    "# WeedMap *Template Notebook*"
   ]
  },
  {
   "cell_type": "markdown",
   "id": "3d664af2",
   "metadata": {},
   "source": [
    "Sam Blake, started 23 December 2022"
   ]
  },
  {
   "cell_type": "markdown",
   "id": "5a0e3986",
   "metadata": {},
   "source": [
    "### Import model and dependencies "
   ]
  },
  {
   "cell_type": "code",
   "execution_count": 4,
   "id": "739b2113",
   "metadata": {},
   "outputs": [
    {
     "name": "stdout",
     "output_type": "stream",
     "text": [
      "The autoreload extension is already loaded. To reload it, use:\n",
      "  %reload_ext autoreload\n",
      "Populating the interactive namespace from numpy and matplotlib\n"
     ]
    }
   ],
   "source": [
    "%load_ext autoreload\n",
    "%autoreload 2\n",
    "\n",
    "%matplotlib notebook\n",
    "%pylab notebook\n",
    "\n",
    "import os\n",
    "import glob\n",
    "import numpy as np\n",
    "import cv2\n",
    "\n",
    "import matplotlib as mpl\n",
    "from matplotlib import pyplot as plt\n",
    "\n",
    "from tqdm import tqdm\n",
    "from PIL import Image\n",
    "\n",
    "import rasterio\n",
    "from rasterio.plot import show\n",
    "\n",
    "from aerial_imagery_classifier import imagery_statistical_binary_classification\n",
    "\n",
    "plt.ioff()\n",
    "plt.rcParams[\"figure.figsize\"] = (10, 6)"
   ]
  },
  {
   "cell_type": "markdown",
   "id": "987bb013",
   "metadata": {},
   "source": [
    "### Preprocessing"
   ]
  },
  {
   "cell_type": "markdown",
   "id": "e290f1a8",
   "metadata": {},
   "source": [
    "We assume the drone imagery has already had been preprocessed and split into manageable sized tiles. Preprocessing may include downsampling, Gaussian blurring and histogram equalisation. Use ```'downsample.py'``` and ```'equalise.py'``` for these steps. "
   ]
  },
  {
   "cell_type": "markdown",
   "id": "57122904",
   "metadata": {},
   "source": [
    "### Import weed and crop training samples"
   ]
  },
  {
   "cell_type": "code",
   "execution_count": null,
   "id": "962cd7f6",
   "metadata": {},
   "outputs": [],
   "source": [
    "crop_1 = cv2.imread('...')"
   ]
  },
  {
   "cell_type": "code",
   "execution_count": null,
   "id": "6028b659",
   "metadata": {},
   "outputs": [],
   "source": [
    "weed_1 = cv2.imread('...')"
   ]
  },
  {
   "cell_type": "markdown",
   "id": "3a133ae6",
   "metadata": {},
   "source": [
    "### Model calibration on single tiles"
   ]
  },
  {
   "cell_type": "code",
   "execution_count": null,
   "id": "f546982b",
   "metadata": {},
   "outputs": [],
   "source": [
    "filename = cv2.imread('...')"
   ]
  },
  {
   "cell_type": "code",
   "execution_count": null,
   "id": "c3f389a0",
   "metadata": {},
   "outputs": [],
   "source": [
    "dataset = rasterio.open(filename)\n",
    "\n",
    "red,green,blue = dataset.read(1), dataset.read(2), dataset.read(3)\n",
    "img = np.zeros((blue.shape[0], blue.shape[1], 3), dtype = np.uint8)\n",
    "img[:,:,0] = blue\n",
    "img[:,:,1] = green\n",
    "img[:,:,2] = red\n",
    "\n",
    "density, classification_image, classification_confidence, spray_region = \\\n",
    "        imagery_statistical_binary_classification(\\\n",
    "            img, \\\n",
    "            [weed_1, weed_2, ...], \\\n",
    "            [crop_1, crop_2, ...], \\\n",
    "            image_resize_ratio = 5, \\\n",
    "            image_blur_kernel_size = (17,17), \\\n",
    "            template_blur_kernel_size = (3,3), \\\n",
    "            template_resize_size = 64, \\\n",
    "            duplicate_tolerance = 5, \\\n",
    "            common_tolerance = 5, \\\n",
    "            n_sigma_thresholds = [2, 2.25, 2.5, 2,75, 3.], \\\n",
    "            equalise = False, \\\n",
    "            denoise_classification_map = True, morph_open = 100, morph_close = 20, \\\n",
    "            dilation_size = 151, \\\n",
    "            z_score = True, \\\n",
    "            limit_outliers = False, \\\n",
    "            extents = [dataset.bounds.left, dataset.bounds.right, \n",
    "                       dataset.bounds.bottom, dataset.bounds.top], \\\n",
    "            export_histogram = False, \\\n",
    "            export_heatmap = False, \\\n",
    "            half_normal_dist = True, \\\n",
    "            imagery_id = filename, \\\n",
    "            plotting = True, \\\n",
    "            verbose = True)\n",
    "\n",
    "\n",
    "# Export spray map to GeoTIFF.\n",
    "output_filename = filename.replace('.tif',f'_SPRAY_MAP.tif')\n",
    "\n",
    "kwargs = dataset.meta\n",
    "kwargs.update(\n",
    "    dtype=rasterio.uint8,\n",
    "    count=1,\n",
    "    compress='lzw')\n",
    "\n",
    "with rasterio.open(output_filename, 'w', **kwargs) as dst:\n",
    "    dst.write_band(1, 255*spray_region)\n",
    "\n",
    "# Export weed map to GeoTIFF.\n",
    "output_filename = filename.replace('.tif',f'_WEED_MAP.tif')\n",
    "\n",
    "kwargs = dataset.meta\n",
    "kwargs.update(\n",
    "    dtype=rasterio.uint8,\n",
    "    count=1,\n",
    "    compress='lzw')\n",
    "\n",
    "with rasterio.open(output_filename, 'w', **kwargs) as dst:\n",
    "    dst.write_band(1, np.where(classification_confidence == 0, 0, 255))\n",
    "\n",
    "# Export classification CI to GeoTIFF.\n",
    "output_filename = filename.replace('.tif',f'_CLASSIFICATION_CONFIDENCE.tif')\n",
    "\n",
    "kwargs = dataset.meta\n",
    "kwargs.update(\n",
    "    dtype=rasterio.uint8,\n",
    "    count=1,\n",
    "    compress='lzw')\n",
    "\n",
    "with rasterio.open(output_filename, 'w', **kwargs) as dst:\n",
    "    dst.write_band(1, classification_confidence)"
   ]
  },
  {
   "cell_type": "markdown",
   "id": "8586b7cb",
   "metadata": {},
   "source": [
    "###  Model all tiles: "
   ]
  },
  {
   "cell_type": "code",
   "execution_count": null,
   "id": "5ebb80fb",
   "metadata": {},
   "outputs": [],
   "source": [
    "file_pattern = '..../tiles/*.tif'\n",
    "for filename in glob.glob(file_pattern):\n",
    "    print(os.path.basename(filename))\n",
    "    \n",
    "    if 'CLASSIFICATION_MAP' in filename:\n",
    "        continue\n",
    "\n",
    "    dataset = rasterio.open(filename)\n",
    "\n",
    "    red,green,blue = dataset.read(1), dataset.read(2), dataset.read(3)\n",
    "    img = np.zeros((blue.shape[0], blue.shape[1], 3), dtype = np.uint8)\n",
    "    img[:,:,0] = blue\n",
    "    img[:,:,1] = green\n",
    "    img[:,:,2] = red\n",
    "\n",
    "    density, classification_image, classification_confidence, spray_region = \\\n",
    "        imagery_statistical_binary_classification(\\\n",
    "            img, \\\n",
    "            [weed_1, weed_2, ...], \\\n",
    "            [crop_1, crop_2, ...], \\\n",
    "            image_resize_ratio = 5, \\\n",
    "            image_blur_kernel_size = (17,17), \\\n",
    "            template_blur_kernel_size = (3,3), \\\n",
    "            template_resize_size = 64, \\\n",
    "            duplicate_tolerance = 5, \\\n",
    "            common_tolerance = 5, \\\n",
    "            n_sigma_thresholds = [2, 2.25, 2.5, 2,75, 3.], \\\n",
    "            equalise = False, \\\n",
    "            denoise_classification_map = True, morph_open = 100, morph_close = 20, \\\n",
    "            dilation_size = 151, \\\n",
    "            z_score = True, \\\n",
    "            limit_outliers = False, \\\n",
    "            extents = [dataset.bounds.left, dataset.bounds.right, \n",
    "                       dataset.bounds.bottom, dataset.bounds.top], \\\n",
    "            export_histogram = False, \\\n",
    "            export_heatmap = False, \\\n",
    "            half_normal_dist = True, \\\n",
    "            imagery_id = filename, \\\n",
    "            plotting = True, \\\n",
    "            verbose = True)\n",
    "\n",
    "\n",
    "    # Export spray map to GeoTIFF.\n",
    "    output_filename = filename.replace('.tif',f'_SPRAY_MAP.tif')\n",
    "\n",
    "    kwargs = dataset.meta\n",
    "    kwargs.update(\n",
    "        dtype=rasterio.uint8,\n",
    "        count=1,\n",
    "        compress='lzw')\n",
    "\n",
    "    with rasterio.open(output_filename, 'w', **kwargs) as dst:\n",
    "        dst.write_band(1, 255*spray_region)\n",
    "\n",
    "    # Export weed map to GeoTIFF.\n",
    "    output_filename = filename.replace('.tif',f'_WEED_MAP.tif')\n",
    "\n",
    "    kwargs = dataset.meta\n",
    "    kwargs.update(\n",
    "        dtype=rasterio.uint8,\n",
    "        count=1,\n",
    "        compress='lzw')\n",
    "\n",
    "    with rasterio.open(output_filename, 'w', **kwargs) as dst:\n",
    "        dst.write_band(1, np.where(classification_confidence == 0, 0, 255))\n",
    "\n",
    "    # Export classification CI to GeoTIFF.\n",
    "    output_filename = filename.replace('.tif',f'_CLASSIFICATION_CONFIDENCE.tif')\n",
    "\n",
    "    kwargs = dataset.meta\n",
    "    kwargs.update(\n",
    "        dtype=rasterio.uint8,\n",
    "        count=1,\n",
    "        compress='lzw')\n",
    "\n",
    "    with rasterio.open(output_filename, 'w', **kwargs) as dst:\n",
    "        dst.write_band(1, classification_confidence)"
   ]
  },
  {
   "cell_type": "code",
   "execution_count": null,
   "id": "de350d8d",
   "metadata": {},
   "outputs": [],
   "source": []
  }
 ],
 "metadata": {
  "kernelspec": {
   "display_name": "Python 3 (ipykernel)",
   "language": "python",
   "name": "python3"
  },
  "language_info": {
   "codemirror_mode": {
    "name": "ipython",
    "version": 3
   },
   "file_extension": ".py",
   "mimetype": "text/x-python",
   "name": "python",
   "nbconvert_exporter": "python",
   "pygments_lexer": "ipython3",
   "version": "3.9.16"
  }
 },
 "nbformat": 4,
 "nbformat_minor": 5
}
